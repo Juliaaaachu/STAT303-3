{
 "cells": [
  {
   "cell_type": "code",
   "execution_count": 191,
   "metadata": {},
   "outputs": [],
   "source": [
    "import pandas as pd \n",
    "import numpy as np"
   ]
  },
  {
   "attachments": {},
   "cell_type": "markdown",
   "metadata": {},
   "source": [
    "#### Reading the Data & processing categoricals"
   ]
  },
  {
   "cell_type": "code",
   "execution_count": 192,
   "metadata": {},
   "outputs": [
    {
     "name": "stdout",
     "output_type": "stream",
     "text": [
      "106 ['SK_ID_CURR', 'TARGET', 'CNT_CHILDREN', 'AMT_INCOME_TOTAL', 'AMT_CREDIT', 'AMT_ANNUITY', 'AMT_GOODS_PRICE', 'REGION_POPULATION_RELATIVE', 'DAYS_BIRTH', 'DAYS_EMPLOYED', 'DAYS_REGISTRATION', 'DAYS_ID_PUBLISH', 'OWN_CAR_AGE', 'FLAG_MOBIL', 'FLAG_EMP_PHONE', 'FLAG_WORK_PHONE', 'FLAG_CONT_MOBILE', 'FLAG_PHONE', 'FLAG_EMAIL', 'CNT_FAM_MEMBERS', 'REGION_RATING_CLIENT', 'REGION_RATING_CLIENT_W_CITY', 'HOUR_APPR_PROCESS_START', 'REG_REGION_NOT_LIVE_REGION', 'REG_REGION_NOT_WORK_REGION', 'LIVE_REGION_NOT_WORK_REGION', 'REG_CITY_NOT_LIVE_CITY', 'REG_CITY_NOT_WORK_CITY', 'LIVE_CITY_NOT_WORK_CITY', 'EXT_SOURCE_1', 'EXT_SOURCE_2', 'EXT_SOURCE_3', 'APARTMENTS_AVG', 'BASEMENTAREA_AVG', 'YEARS_BEGINEXPLUATATION_AVG', 'YEARS_BUILD_AVG', 'COMMONAREA_AVG', 'ELEVATORS_AVG', 'ENTRANCES_AVG', 'FLOORSMAX_AVG', 'FLOORSMIN_AVG', 'LANDAREA_AVG', 'LIVINGAPARTMENTS_AVG', 'LIVINGAREA_AVG', 'NONLIVINGAPARTMENTS_AVG', 'NONLIVINGAREA_AVG', 'APARTMENTS_MODE', 'BASEMENTAREA_MODE', 'YEARS_BEGINEXPLUATATION_MODE', 'YEARS_BUILD_MODE', 'COMMONAREA_MODE', 'ELEVATORS_MODE', 'ENTRANCES_MODE', 'FLOORSMAX_MODE', 'FLOORSMIN_MODE', 'LANDAREA_MODE', 'LIVINGAPARTMENTS_MODE', 'LIVINGAREA_MODE', 'NONLIVINGAPARTMENTS_MODE', 'NONLIVINGAREA_MODE', 'APARTMENTS_MEDI', 'BASEMENTAREA_MEDI', 'YEARS_BEGINEXPLUATATION_MEDI', 'YEARS_BUILD_MEDI', 'COMMONAREA_MEDI', 'ELEVATORS_MEDI', 'ENTRANCES_MEDI', 'FLOORSMAX_MEDI', 'FLOORSMIN_MEDI', 'LANDAREA_MEDI', 'LIVINGAPARTMENTS_MEDI', 'LIVINGAREA_MEDI', 'NONLIVINGAPARTMENTS_MEDI', 'NONLIVINGAREA_MEDI', 'TOTALAREA_MODE', 'OBS_30_CNT_SOCIAL_CIRCLE', 'DEF_30_CNT_SOCIAL_CIRCLE', 'OBS_60_CNT_SOCIAL_CIRCLE', 'DEF_60_CNT_SOCIAL_CIRCLE', 'DAYS_LAST_PHONE_CHANGE', 'FLAG_DOCUMENT_2', 'FLAG_DOCUMENT_3', 'FLAG_DOCUMENT_4', 'FLAG_DOCUMENT_5', 'FLAG_DOCUMENT_6', 'FLAG_DOCUMENT_7', 'FLAG_DOCUMENT_8', 'FLAG_DOCUMENT_9', 'FLAG_DOCUMENT_10', 'FLAG_DOCUMENT_11', 'FLAG_DOCUMENT_12', 'FLAG_DOCUMENT_13', 'FLAG_DOCUMENT_14', 'FLAG_DOCUMENT_15', 'FLAG_DOCUMENT_16', 'FLAG_DOCUMENT_17', 'FLAG_DOCUMENT_18', 'FLAG_DOCUMENT_19', 'FLAG_DOCUMENT_20', 'FLAG_DOCUMENT_21', 'AMT_REQ_CREDIT_BUREAU_HOUR', 'AMT_REQ_CREDIT_BUREAU_DAY', 'AMT_REQ_CREDIT_BUREAU_WEEK', 'AMT_REQ_CREDIT_BUREAU_MON', 'AMT_REQ_CREDIT_BUREAU_QRT', 'AMT_REQ_CREDIT_BUREAU_YEAR']\n",
      "16 ['NAME_CONTRACT_TYPE', 'CODE_GENDER', 'FLAG_OWN_CAR', 'FLAG_OWN_REALTY', 'NAME_TYPE_SUITE', 'NAME_INCOME_TYPE', 'NAME_EDUCATION_TYPE', 'NAME_FAMILY_STATUS', 'NAME_HOUSING_TYPE', 'OCCUPATION_TYPE', 'WEEKDAY_APPR_PROCESS_START', 'ORGANIZATION_TYPE', 'FONDKAPREMONT_MODE', 'HOUSETYPE_MODE', 'WALLSMATERIAL_MODE', 'EMERGENCYSTATE_MODE']\n"
     ]
    }
   ],
   "source": [
    "train = pd.read_csv(\"../data/application_train.csv\")\n",
    "# Count the number of continuous and categorical predictors\n",
    "num_features = train.select_dtypes(include='number').columns.tolist()\n",
    "cat_features = train.select_dtypes(include='object').columns.tolist()\n",
    "\n",
    "print(len(num_features), num_features)\n",
    "print(len(cat_features), cat_features)"
   ]
  },
  {
   "cell_type": "code",
   "execution_count": 193,
   "metadata": {},
   "outputs": [
    {
     "name": "stdout",
     "output_type": "stream",
     "text": [
      "train shape prior to dropping (307511, 122)\n"
     ]
    },
    {
     "data": {
      "text/plain": [
       "0    0.919271\n",
       "1    0.080729\n",
       "Name: TARGET, dtype: float64"
      ]
     },
     "metadata": {},
     "output_type": "display_data"
    },
    {
     "name": "stdout",
     "output_type": "stream",
     "text": [
      "==================================================\n",
      "train shape post dropping (8602, 122)\n"
     ]
    },
    {
     "data": {
      "text/plain": [
       "0    0.938851\n",
       "1    0.061149\n",
       "Name: TARGET, dtype: float64"
      ]
     },
     "metadata": {},
     "output_type": "display_data"
    }
   ],
   "source": [
    "#drop all observations will null value\n",
    "#justification: large datasize\n",
    "print(\"train shape prior to dropping\", train.shape)\n",
    "display(train['TARGET'].value_counts(normalize=True))\n",
    "print(\"=\"*50)\n",
    "\n",
    "train = train.dropna()\n",
    "print(\"train shape post dropping\", train.shape)\n",
    "display(train['TARGET'].value_counts(normalize=True))"
   ]
  },
  {
   "cell_type": "code",
   "execution_count": 194,
   "metadata": {},
   "outputs": [
    {
     "name": "stdout",
     "output_type": "stream",
     "text": [
      "Value counts for NAME_CONTRACT_TYPE:\n",
      "Cash loans         7660\n",
      "Revolving loans     942\n",
      "Name: NAME_CONTRACT_TYPE, dtype: int64\n",
      "Value counts for CODE_GENDER:\n",
      "M    4381\n",
      "F    4221\n",
      "Name: CODE_GENDER, dtype: int64\n",
      "Value counts for FLAG_OWN_CAR:\n",
      "Y    8602\n",
      "Name: FLAG_OWN_CAR, dtype: int64\n",
      "Value counts for FLAG_OWN_REALTY:\n",
      "Y    5916\n",
      "N    2686\n",
      "Name: FLAG_OWN_REALTY, dtype: int64\n",
      "Value counts for NAME_TYPE_SUITE:\n",
      "Unaccompanied      7174\n",
      "Family              982\n",
      "Spouse, partner     316\n",
      "Children             63\n",
      "Other_B              40\n",
      "Other_A              19\n",
      "Group of people       8\n",
      "Name: NAME_TYPE_SUITE, dtype: int64\n",
      "Value counts for NAME_INCOME_TYPE:\n",
      "Working                 5050\n",
      "Commercial associate    2836\n",
      "State servant            716\n",
      "Name: NAME_INCOME_TYPE, dtype: int64\n",
      "Value counts for NAME_EDUCATION_TYPE:\n",
      "Secondary / secondary special    4646\n",
      "Higher education                 3523\n",
      "Incomplete higher                 392\n",
      "Lower secondary                    35\n",
      "Academic degree                     6\n",
      "Name: NAME_EDUCATION_TYPE, dtype: int64\n",
      "Value counts for NAME_FAMILY_STATUS:\n",
      "Married                 6139\n",
      "Single / not married    1159\n",
      "Civil marriage           733\n",
      "Separated                470\n",
      "Widow                    101\n",
      "Name: NAME_FAMILY_STATUS, dtype: int64\n",
      "Value counts for NAME_HOUSING_TYPE:\n",
      "House / apartment      7648\n",
      "With parents            455\n",
      "Municipal apartment     256\n",
      "Office apartment        110\n",
      "Rented apartment         98\n",
      "Co-op apartment          35\n",
      "Name: NAME_HOUSING_TYPE, dtype: int64\n",
      "Value counts for OCCUPATION_TYPE:\n",
      "Laborers                 1967\n",
      "Managers                 1550\n",
      "Core staff               1166\n",
      "Sales staff               947\n",
      "Drivers                   940\n",
      "High skill tech staff     618\n",
      "Accountants               561\n",
      "Medicine staff            217\n",
      "Security staff            171\n",
      "Private service staff     102\n",
      "Cooking staff              98\n",
      "Cleaning staff             46\n",
      "Secretaries                44\n",
      "IT staff                   44\n",
      "Realty agents              41\n",
      "Low-skill Laborers         33\n",
      "Waiters/barmen staff       29\n",
      "HR staff                   28\n",
      "Name: OCCUPATION_TYPE, dtype: int64\n",
      "Value counts for WEEKDAY_APPR_PROCESS_START:\n",
      "MONDAY       1499\n",
      "WEDNESDAY    1470\n",
      "TUESDAY      1435\n",
      "THURSDAY     1407\n",
      "FRIDAY       1387\n",
      "SATURDAY      943\n",
      "SUNDAY        461\n",
      "Name: WEEKDAY_APPR_PROCESS_START, dtype: int64\n",
      "Value counts for ORGANIZATION_TYPE:\n",
      "Business Entity Type 3    2607\n",
      "Self-employed             1114\n",
      "Other                      430\n",
      "Business Entity Type 2     382\n",
      "Government                 325\n",
      "Medicine                   301\n",
      "Construction               294\n",
      "Transport: type 4          235\n",
      "Trade: type 7              234\n",
      "School                     222\n",
      "Industry: type 9           202\n",
      "Business Entity Type 1     194\n",
      "Kindergarten               159\n",
      "Military                   154\n",
      "Bank                       130\n",
      "Trade: type 3              124\n",
      "Transport: type 2          110\n",
      "Security                   107\n",
      "Police                      99\n",
      "Trade: type 2               98\n",
      "Housing                     84\n",
      "Industry: type 11           83\n",
      "Security Ministries         80\n",
      "Industry: type 3            69\n",
      "Industry: type 7            61\n",
      "University                  55\n",
      "Services                    54\n",
      "Transport: type 3           49\n",
      "Electricity                 46\n",
      "Industry: type 5            41\n",
      "Industry: type 1            40\n",
      "Postal                      35\n",
      "Restaurant                  34\n",
      "Industry: type 4            33\n",
      "Emergency                   33\n",
      "Telecom                     30\n",
      "Insurance                   28\n",
      "Realtor                     28\n",
      "Advertising                 25\n",
      "Agriculture                 24\n",
      "Industry: type 2            24\n",
      "Mobile                      23\n",
      "Legal Services              20\n",
      "Trade: type 6               19\n",
      "Hotel                       14\n",
      "Trade: type 1               14\n",
      "Industry: type 12           10\n",
      "Transport: type 1            7\n",
      "Industry: type 10            5\n",
      "Cleaning                     4\n",
      "Religion                     3\n",
      "Culture                      3\n",
      "Trade: type 4                1\n",
      "Industry: type 8             1\n",
      "Industry: type 6             1\n",
      "Name: ORGANIZATION_TYPE, dtype: int64\n",
      "Value counts for FONDKAPREMONT_MODE:\n",
      "reg oper account         6523\n",
      "reg oper spec account    1056\n",
      "not specified             579\n",
      "org spec account          444\n",
      "Name: FONDKAPREMONT_MODE, dtype: int64\n",
      "Value counts for HOUSETYPE_MODE:\n",
      "block of flats      8507\n",
      "specific housing      48\n",
      "terraced house        47\n",
      "Name: HOUSETYPE_MODE, dtype: int64\n",
      "Value counts for WALLSMATERIAL_MODE:\n",
      "Panel           4100\n",
      "Stone, brick    3421\n",
      "Block            565\n",
      "Wooden           161\n",
      "Monolithic       148\n",
      "Mixed            106\n",
      "Others           101\n",
      "Name: WALLSMATERIAL_MODE, dtype: int64\n",
      "Value counts for EMERGENCYSTATE_MODE:\n",
      "No     8529\n",
      "Yes      73\n",
      "Name: EMERGENCYSTATE_MODE, dtype: int64\n"
     ]
    }
   ],
   "source": [
    "# Get value counts for each categorical column\n",
    "# non_bin_cat = []\n",
    "\n",
    "for feature in cat_features:\n",
    "    counts = train[feature].value_counts()\n",
    "    print(f\"Value counts for {feature}:\")\n",
    "    print(counts)\n",
    "    unique_values = train[feature].nunique()\n",
    "\n",
    "    # if unique_values > 2:  # Check if value counts > 2\n",
    "    #   non_bin_cat.append(feature)\n",
    "\n",
    "# print(\"NONBINARY CATEGORY COLUMNS\", len(non_bin_cat), non_bin_cat)"
   ]
  },
  {
   "attachments": {},
   "cell_type": "markdown",
   "metadata": {},
   "source": [
    "### Feature Selection? "
   ]
  },
  {
   "cell_type": "code",
   "execution_count": 195,
   "metadata": {},
   "outputs": [],
   "source": [
    "train = train.drop([\"SK_ID_CURR\"], axis = 1)"
   ]
  },
  {
   "cell_type": "code",
   "execution_count": 196,
   "metadata": {},
   "outputs": [],
   "source": [
    "train = pd.get_dummies(train)"
   ]
  },
  {
   "cell_type": "code",
   "execution_count": 197,
   "metadata": {},
   "outputs": [
    {
     "name": "stdout",
     "output_type": "stream",
     "text": [
      " 1. EXT_SOURCE_3                                       0.038209\n",
      " 2. EXT_SOURCE_1                                       0.033258\n",
      " 3. EXT_SOURCE_2                                       0.031795\n",
      " 4. DAYS_REGISTRATION                                  0.021831\n",
      " 5. DAYS_EMPLOYED                                      0.021334\n",
      " 6. DAYS_BIRTH                                         0.020283\n",
      " 7. DAYS_ID_PUBLISH                                    0.018592\n",
      " 8. AMT_ANNUITY                                        0.018045\n",
      " 9. AMT_CREDIT                                         0.017362\n",
      "10. DAYS_LAST_PHONE_CHANGE                             0.016744\n",
      "11. COMMONAREA_AVG                                     0.016021\n",
      "12. LIVINGAREA_MEDI                                    0.015841\n",
      "13. LANDAREA_MODE                                      0.015699\n",
      "14. TOTALAREA_MODE                                     0.015228\n",
      "15. COMMONAREA_MEDI                                    0.015151\n",
      "16. AMT_GOODS_PRICE                                    0.014958\n",
      "17. LANDAREA_AVG                                       0.014934\n",
      "18. BASEMENTAREA_AVG                                   0.014850\n",
      "19. LIVINGAREA_MODE                                    0.014836\n",
      "20. BASEMENTAREA_MEDI                                  0.014721\n",
      "21. BASEMENTAREA_MODE                                  0.014531\n",
      "22. OWN_CAR_AGE                                        0.014478\n",
      "23. AMT_INCOME_TOTAL                                   0.014422\n",
      "24. COMMONAREA_MODE                                    0.014175\n",
      "25. LANDAREA_MEDI                                      0.013994\n",
      "26. LIVINGAREA_AVG                                     0.013798\n",
      "27. REGION_POPULATION_RELATIVE                         0.013393\n",
      "28. YEARS_BUILD_MODE                                   0.013277\n",
      "29. APARTMENTS_MODE                                    0.013159\n",
      "30. YEARS_BEGINEXPLUATATION_MEDI                       0.012944\n",
      "31. YEARS_BUILD_AVG                                    0.012708\n",
      "32. HOUR_APPR_PROCESS_START                            0.012613\n",
      "33. LIVINGAPARTMENTS_MODE                              0.012567\n",
      "34. APARTMENTS_MEDI                                    0.012525\n",
      "35. LIVINGAPARTMENTS_MEDI                              0.012190\n",
      "36. APARTMENTS_AVG                                     0.012056\n",
      "37. YEARS_BUILD_MEDI                                   0.012056\n",
      "38. YEARS_BEGINEXPLUATATION_AVG                        0.011892\n",
      "39. LIVINGAPARTMENTS_AVG                               0.011744\n",
      "40. YEARS_BEGINEXPLUATATION_MODE                       0.011608\n",
      "41. AMT_REQ_CREDIT_BUREAU_YEAR                         0.010289\n",
      "42. NONLIVINGAREA_MEDI                                 0.009802\n",
      "43. ENTRANCES_MEDI                                     0.009323\n",
      "44. OBS_30_CNT_SOCIAL_CIRCLE                           0.009310\n",
      "45. NONLIVINGAREA_AVG                                  0.008691\n",
      "46. NONLIVINGAREA_MODE                                 0.008587\n",
      "47. ENTRANCES_AVG                                      0.008002\n",
      "48. OBS_60_CNT_SOCIAL_CIRCLE                           0.007932\n",
      "49. ENTRANCES_MODE                                     0.007634\n",
      "50. FLOORSMIN_AVG                                      0.006970\n"
     ]
    },
    {
     "data": {
      "image/png": "[encoded data removed]",
      "text/plain": [
       "<Figure size 640x480 with 1 Axes>"
      ]
     },
     "metadata": {},
     "output_type": "display_data"
    }
   ],
   "source": [
    "import matplotlib.pyplot as plt\n",
    "\n",
    "y = train['TARGET']\n",
    "X = train.drop(\"TARGET\", axis = 1 )\n",
    "\n",
    "\n",
    "from sklearn.ensemble import RandomForestClassifier, RandomForestRegressor\n",
    "from sklearn.pipeline import Pipeline\n",
    "from sklearn.preprocessing import RobustScaler, StandardScaler,OneHotEncoder, MinMaxScaler\n",
    "\n",
    "rf = RandomForestClassifier(n_estimators=100,max_depth=None)\n",
    "rf_pipe = Pipeline([('standardize', MinMaxScaler()), ('rf', rf)])\n",
    "rf_pipe.fit(X, y)\n",
    "feat_labels=X.columns\n",
    "#根据随机森林模型的拟合结果选择特征\n",
    "rf = rf_pipe.__getitem__('rf')\n",
    "importance = rf.feature_importances_\n",
    " \n",
    "#np.argsort()返回待排序集合从下到大的索引值，[::-1]实现倒序，即最终imp_result内保存的是从大到小的索引值\n",
    "imp_result = np.argsort(importance)[::-1][:50]\n",
    " \n",
    "#按重要性从高到低输出属性列名和其重要性\n",
    "for i in range(len(imp_result)):\n",
    "    print(\"%2d. %-*s %f\" % (i + 1, 50, feat_labels[imp_result[i]], importance[imp_result[i]]))\n",
    " \n",
    "#对属性列，按属性重要性从高到低进行排序\n",
    "feat_labels = [feat_labels[i] for i in imp_result]\n",
    "#绘制特征重要性图像\n",
    "plt.title('Feature Importance')\n",
    "plt.bar(range(len(imp_result)), importance[imp_result], color='lightblue', align='center')\n",
    "plt.xticks(range(len(imp_result)), feat_labels, rotation=90)\n",
    "plt.xlim([-1, len(imp_result)])\n",
    "plt.tight_layout()\n",
    "plt.show()"
   ]
  },
  {
   "cell_type": "code",
   "execution_count": 198,
   "metadata": {},
   "outputs": [
    {
     "data": {
      "text/plain": [
       "(8602, 50)"
      ]
     },
     "metadata": {},
     "output_type": "display_data"
    }
   ],
   "source": [
    "save_featLength = len(feat_labels)\n",
    "X = X[feat_labels[:save_featLength]]\n",
    "display(X.shape)"
   ]
  },
  {
   "attachments": {},
   "cell_type": "markdown",
   "metadata": {},
   "source": [
    "#### Train Test Split & Scaling"
   ]
  },
  {
   "cell_type": "code",
   "execution_count": 199,
   "metadata": {},
   "outputs": [],
   "source": [
    "from sklearn.model_selection import train_test_split\n",
    "from sklearn.preprocessing import MinMaxScaler"
   ]
  },
  {
   "cell_type": "code",
   "execution_count": 200,
   "metadata": {},
   "outputs": [
    {
     "name": "stdout",
     "output_type": "stream",
     "text": [
      "(6881, 50) (1721, 50)\n"
     ]
    }
   ],
   "source": [
    "#stratfiy based on outcome variable due to data imabalance\n",
    "X_train, X_test, y_train, y_test = train_test_split(X, y, stratify=y, test_size=0.2, random_state = 22) \n",
    "print(X_train.shape, X_test.shape)"
   ]
  },
  {
   "cell_type": "code",
   "execution_count": 201,
   "metadata": {},
   "outputs": [],
   "source": [
    "scaler = MinMaxScaler(feature_range = (0, 1)).fit(X_train)\n",
    "X_train = scaler.transform(X_train)\n",
    "X_train=pd.DataFrame(X_train, columns=X.columns)\n",
    "\n",
    "X_test = scaler.transform(X_test)\n",
    "X_test=pd.DataFrame(X_test, columns=X.columns)"
   ]
  },
  {
   "cell_type": "code",
   "execution_count": 202,
   "metadata": {},
   "outputs": [
    {
     "name": "stdout",
     "output_type": "stream",
     "text": [
      "50 ['EXT_SOURCE_3', 'EXT_SOURCE_1', 'EXT_SOURCE_2', 'DAYS_REGISTRATION', 'DAYS_EMPLOYED', 'DAYS_BIRTH', 'DAYS_ID_PUBLISH', 'AMT_ANNUITY', 'AMT_CREDIT', 'DAYS_LAST_PHONE_CHANGE', 'COMMONAREA_AVG', 'LIVINGAREA_MEDI', 'LANDAREA_MODE', 'TOTALAREA_MODE', 'COMMONAREA_MEDI', 'AMT_GOODS_PRICE', 'LANDAREA_AVG', 'BASEMENTAREA_AVG', 'LIVINGAREA_MODE', 'BASEMENTAREA_MEDI', 'BASEMENTAREA_MODE', 'OWN_CAR_AGE', 'AMT_INCOME_TOTAL', 'COMMONAREA_MODE', 'LANDAREA_MEDI', 'LIVINGAREA_AVG', 'REGION_POPULATION_RELATIVE', 'YEARS_BUILD_MODE', 'APARTMENTS_MODE', 'YEARS_BEGINEXPLUATATION_MEDI', 'YEARS_BUILD_AVG', 'HOUR_APPR_PROCESS_START', 'LIVINGAPARTMENTS_MODE', 'APARTMENTS_MEDI', 'LIVINGAPARTMENTS_MEDI', 'APARTMENTS_AVG', 'YEARS_BUILD_MEDI', 'YEARS_BEGINEXPLUATATION_AVG', 'LIVINGAPARTMENTS_AVG', 'YEARS_BEGINEXPLUATATION_MODE', 'AMT_REQ_CREDIT_BUREAU_YEAR', 'NONLIVINGAREA_MEDI', 'ENTRANCES_MEDI', 'OBS_30_CNT_SOCIAL_CIRCLE', 'NONLIVINGAREA_AVG', 'NONLIVINGAREA_MODE', 'ENTRANCES_AVG', 'OBS_60_CNT_SOCIAL_CIRCLE', 'ENTRANCES_MODE', 'FLOORSMIN_AVG']\n"
     ]
    }
   ],
   "source": [
    "feature_names = X_train.columns.tolist()\n",
    "print(len(feature_names), feature_names)"
   ]
  },
  {
   "cell_type": "code",
   "execution_count": 203,
   "metadata": {},
   "outputs": [
    {
     "data": {
      "text/plain": [
       "0    0.938817\n",
       "1    0.061183\n",
       "Name: TARGET, dtype: float64"
      ]
     },
     "execution_count": 203,
     "metadata": {},
     "output_type": "execute_result"
    }
   ],
   "source": [
    "y_train.value_counts(normalize=True)"
   ]
  },
  {
   "attachments": {},
   "cell_type": "markdown",
   "metadata": {},
   "source": [
    "## Gradient Boost\n",
    "- decided to use lightgbm due to its computational power\n",
    "- Reference: https://lightgbm.readthedocs.io/en/latest/pythonapi/lightgbm.LGBMClassifier.html"
   ]
  },
  {
   "cell_type": "code",
   "execution_count": 208,
   "metadata": {},
   "outputs": [],
   "source": [
    "import lightgbm as lgb\n",
    "\n",
    "from sklearn.model_selection import StratifiedKFold\n",
    "from sklearn.metrics import roc_auc_score\n",
    "from sklearn.metrics import roc_curve\n",
    "from sklearn.metrics import auc\n",
    "from sklearn.metrics import recall_score"
   ]
  },
  {
   "attachments": {},
   "cell_type": "markdown",
   "metadata": {},
   "source": [
    "#### Default Model"
   ]
  },
  {
   "cell_type": "code",
   "execution_count": 217,
   "metadata": {},
   "outputs": [
    {
     "data": {
      "text/html": [
       "<div>\n",
       "<style scoped>\n",
       "    .dataframe tbody tr th:only-of-type {\n",
       "        vertical-align: middle;\n",
       "    }\n",
       "\n",
       "    .dataframe tbody tr th {\n",
       "        vertical-align: top;\n",
       "    }\n",
       "\n",
       "    .dataframe thead th {\n",
       "        text-align: right;\n",
       "    }\n",
       "</style>\n",
       "<table border=\"1\" class=\"dataframe\">\n",
       "  <thead>\n",
       "    <tr style=\"text-align: right;\">\n",
       "      <th></th>\n",
       "      <th>EXT_SOURCE_3</th>\n",
       "      <th>EXT_SOURCE_1</th>\n",
       "      <th>EXT_SOURCE_2</th>\n",
       "      <th>DAYS_REGISTRATION</th>\n",
       "      <th>DAYS_EMPLOYED</th>\n",
       "      <th>DAYS_BIRTH</th>\n",
       "      <th>DAYS_ID_PUBLISH</th>\n",
       "      <th>AMT_ANNUITY</th>\n",
       "      <th>AMT_CREDIT</th>\n",
       "      <th>DAYS_LAST_PHONE_CHANGE</th>\n",
       "      <th>...</th>\n",
       "      <th>AMT_REQ_CREDIT_BUREAU_YEAR</th>\n",
       "      <th>NONLIVINGAREA_MEDI</th>\n",
       "      <th>ENTRANCES_MEDI</th>\n",
       "      <th>OBS_30_CNT_SOCIAL_CIRCLE</th>\n",
       "      <th>NONLIVINGAREA_AVG</th>\n",
       "      <th>NONLIVINGAREA_MODE</th>\n",
       "      <th>ENTRANCES_AVG</th>\n",
       "      <th>OBS_60_CNT_SOCIAL_CIRCLE</th>\n",
       "      <th>ENTRANCES_MODE</th>\n",
       "      <th>FLOORSMIN_AVG</th>\n",
       "    </tr>\n",
       "  </thead>\n",
       "  <tbody>\n",
       "    <tr>\n",
       "      <th>0</th>\n",
       "      <td>0.378409</td>\n",
       "      <td>0.737304</td>\n",
       "      <td>0.291721</td>\n",
       "      <td>0.702084</td>\n",
       "      <td>0.921887</td>\n",
       "      <td>0.788610</td>\n",
       "      <td>0.611430</td>\n",
       "      <td>0.153630</td>\n",
       "      <td>0.171910</td>\n",
       "      <td>0.676686</td>\n",
       "      <td>...</td>\n",
       "      <td>0.058824</td>\n",
       "      <td>0.0222</td>\n",
       "      <td>0.1379</td>\n",
       "      <td>0.000000</td>\n",
       "      <td>0.0217</td>\n",
       "      <td>0.0230</td>\n",
       "      <td>0.1379</td>\n",
       "      <td>0.000000</td>\n",
       "      <td>0.1379</td>\n",
       "      <td>0.0417</td>\n",
       "    </tr>\n",
       "    <tr>\n",
       "      <th>1</th>\n",
       "      <td>0.080852</td>\n",
       "      <td>0.290731</td>\n",
       "      <td>0.690874</td>\n",
       "      <td>0.989520</td>\n",
       "      <td>0.992056</td>\n",
       "      <td>0.842056</td>\n",
       "      <td>0.571201</td>\n",
       "      <td>0.024569</td>\n",
       "      <td>0.033708</td>\n",
       "      <td>0.881965</td>\n",
       "      <td>...</td>\n",
       "      <td>0.058824</td>\n",
       "      <td>0.0050</td>\n",
       "      <td>0.2414</td>\n",
       "      <td>0.000000</td>\n",
       "      <td>0.0049</td>\n",
       "      <td>0.0052</td>\n",
       "      <td>0.2414</td>\n",
       "      <td>0.000000</td>\n",
       "      <td>0.2414</td>\n",
       "      <td>0.3750</td>\n",
       "    </tr>\n",
       "    <tr>\n",
       "      <th>2</th>\n",
       "      <td>0.543288</td>\n",
       "      <td>0.614367</td>\n",
       "      <td>0.982729</td>\n",
       "      <td>0.810200</td>\n",
       "      <td>0.983346</td>\n",
       "      <td>0.584988</td>\n",
       "      <td>0.274745</td>\n",
       "      <td>0.085249</td>\n",
       "      <td>0.129211</td>\n",
       "      <td>0.551075</td>\n",
       "      <td>...</td>\n",
       "      <td>0.176471</td>\n",
       "      <td>0.0446</td>\n",
       "      <td>0.2069</td>\n",
       "      <td>0.000000</td>\n",
       "      <td>0.0437</td>\n",
       "      <td>0.0463</td>\n",
       "      <td>0.2069</td>\n",
       "      <td>0.000000</td>\n",
       "      <td>0.2069</td>\n",
       "      <td>0.2083</td>\n",
       "    </tr>\n",
       "    <tr>\n",
       "      <th>3</th>\n",
       "      <td>0.695121</td>\n",
       "      <td>0.246448</td>\n",
       "      <td>0.757727</td>\n",
       "      <td>0.919248</td>\n",
       "      <td>0.882029</td>\n",
       "      <td>0.905900</td>\n",
       "      <td>0.681833</td>\n",
       "      <td>0.102217</td>\n",
       "      <td>0.071137</td>\n",
       "      <td>1.000000</td>\n",
       "      <td>...</td>\n",
       "      <td>0.058824</td>\n",
       "      <td>0.0000</td>\n",
       "      <td>0.2241</td>\n",
       "      <td>0.037037</td>\n",
       "      <td>0.0000</td>\n",
       "      <td>0.0000</td>\n",
       "      <td>0.2241</td>\n",
       "      <td>0.037037</td>\n",
       "      <td>0.1379</td>\n",
       "      <td>0.2917</td>\n",
       "    </tr>\n",
       "    <tr>\n",
       "      <th>4</th>\n",
       "      <td>0.655515</td>\n",
       "      <td>0.398616</td>\n",
       "      <td>0.613927</td>\n",
       "      <td>0.903586</td>\n",
       "      <td>0.884050</td>\n",
       "      <td>0.806717</td>\n",
       "      <td>0.417465</td>\n",
       "      <td>0.062692</td>\n",
       "      <td>0.102247</td>\n",
       "      <td>0.945259</td>\n",
       "      <td>...</td>\n",
       "      <td>0.000000</td>\n",
       "      <td>0.0353</td>\n",
       "      <td>0.1379</td>\n",
       "      <td>0.074074</td>\n",
       "      <td>0.0346</td>\n",
       "      <td>0.0366</td>\n",
       "      <td>0.1379</td>\n",
       "      <td>0.074074</td>\n",
       "      <td>0.1379</td>\n",
       "      <td>0.3750</td>\n",
       "    </tr>\n",
       "  </tbody>\n",
       "</table>\n",
       "<p>5 rows × 50 columns</p>\n",
       "</div>"
      ],
      "text/plain": [
       "   EXT_SOURCE_3  EXT_SOURCE_1  EXT_SOURCE_2  DAYS_REGISTRATION  DAYS_EMPLOYED  \\\n",
       "0      0.378409      0.737304      0.291721           0.702084       0.921887   \n",
       "1      0.080852      0.290731      0.690874           0.989520       0.992056   \n",
       "2      0.543288      0.614367      0.982729           0.810200       0.983346   \n",
       "3      0.695121      0.246448      0.757727           0.919248       0.882029   \n",
       "4      0.655515      0.398616      0.613927           0.903586       0.884050   \n",
       "\n",
       "   DAYS_BIRTH  DAYS_ID_PUBLISH  AMT_ANNUITY  AMT_CREDIT  \\\n",
       "0    0.788610         0.611430     0.153630    0.171910   \n",
       "1    0.842056         0.571201     0.024569    0.033708   \n",
       "2    0.584988         0.274745     0.085249    0.129211   \n",
       "3    0.905900         0.681833     0.102217    0.071137   \n",
       "4    0.806717         0.417465     0.062692    0.102247   \n",
       "\n",
       "   DAYS_LAST_PHONE_CHANGE  ...  AMT_REQ_CREDIT_BUREAU_YEAR  \\\n",
       "0                0.676686  ...                    0.058824   \n",
       "1                0.881965  ...                    0.058824   \n",
       "2                0.551075  ...                    0.176471   \n",
       "3                1.000000  ...                    0.058824   \n",
       "4                0.945259  ...                    0.000000   \n",
       "\n",
       "   NONLIVINGAREA_MEDI  ENTRANCES_MEDI  OBS_30_CNT_SOCIAL_CIRCLE  \\\n",
       "0              0.0222          0.1379                  0.000000   \n",
       "1              0.0050          0.2414                  0.000000   \n",
       "2              0.0446          0.2069                  0.000000   \n",
       "3              0.0000          0.2241                  0.037037   \n",
       "4              0.0353          0.1379                  0.074074   \n",
       "\n",
       "   NONLIVINGAREA_AVG  NONLIVINGAREA_MODE  ENTRANCES_AVG  \\\n",
       "0             0.0217              0.0230         0.1379   \n",
       "1             0.0049              0.0052         0.2414   \n",
       "2             0.0437              0.0463         0.2069   \n",
       "3             0.0000              0.0000         0.2241   \n",
       "4             0.0346              0.0366         0.1379   \n",
       "\n",
       "   OBS_60_CNT_SOCIAL_CIRCLE  ENTRANCES_MODE  FLOORSMIN_AVG  \n",
       "0                  0.000000          0.1379         0.0417  \n",
       "1                  0.000000          0.2414         0.3750  \n",
       "2                  0.000000          0.2069         0.2083  \n",
       "3                  0.037037          0.1379         0.2917  \n",
       "4                  0.074074          0.1379         0.3750  \n",
       "\n",
       "[5 rows x 50 columns]"
      ]
     },
     "metadata": {},
     "output_type": "display_data"
    },
    {
     "data": {
      "text/plain": [
       "212160    0\n",
       "1001      0\n",
       "217758    0\n",
       "107163    0\n",
       "157374    0\n",
       "         ..\n",
       "285975    0\n",
       "263158    0\n",
       "104663    1\n",
       "154408    0\n",
       "32783     0\n",
       "Name: TARGET, Length: 6881, dtype: int64"
      ]
     },
     "metadata": {},
     "output_type": "display_data"
    }
   ],
   "source": [
    "display(X_train.head())\n",
    "display(y_train)"
   ]
  },
  {
   "cell_type": "code",
   "execution_count": 230,
   "metadata": {},
   "outputs": [
    {
     "name": "stderr",
     "output_type": "stream",
     "text": [
      "/Users/juliachu/opt/anaconda3/lib/python3.9/site-packages/lightgbm/engine.py:181: UserWarning: 'early_stopping_rounds' argument is deprecated and will be removed in a future release of LightGBM. Pass 'early_stopping()' callback via 'callbacks' argument instead.\n",
      "  _log_warning(\"'early_stopping_rounds' argument is deprecated and will be removed in a future release of LightGBM. \"\n",
      "/Users/juliachu/opt/anaconda3/lib/python3.9/site-packages/lightgbm/engine.py:260: UserWarning: 'evals_result' argument is deprecated and will be removed in a future release of LightGBM. Pass 'record_evaluation()' callback via 'callbacks' argument instead.\n",
      "  _log_warning(\"'evals_result' argument is deprecated and will be removed in a future release of LightGBM. \"\n"
     ]
    },
    {
     "name": "stdout",
     "output_type": "stream",
     "text": [
      "[LightGBM] [Warning] Auto-choosing col-wise multi-threading, the overhead of testing was 0.001393 seconds.\n",
      "You can set `force_col_wise=true` to remove the overhead.\n",
      "[1]\tvalid's binary_logloss: 0.228615\tvalid's auc: 0.64939\n",
      "Training until validation scores don't improve for 5 rounds\n",
      "[2]\tvalid's binary_logloss: 0.225116\tvalid's auc: 0.683887\n",
      "[3]\tvalid's binary_logloss: 0.223366\tvalid's auc: 0.691331\n",
      "[4]\tvalid's binary_logloss: 0.220625\tvalid's auc: 0.701557\n",
      "[5]\tvalid's binary_logloss: 0.219259\tvalid's auc: 0.69974\n",
      "[6]\tvalid's binary_logloss: 0.217535\tvalid's auc: 0.709616\n",
      "[7]\tvalid's binary_logloss: 0.216916\tvalid's auc: 0.706702\n",
      "[8]\tvalid's binary_logloss: 0.216292\tvalid's auc: 0.702677\n",
      "[9]\tvalid's binary_logloss: 0.216709\tvalid's auc: 0.70122\n",
      "[10]\tvalid's binary_logloss: 0.216872\tvalid's auc: 0.697601\n",
      "[11]\tvalid's binary_logloss: 0.217144\tvalid's auc: 0.693571\n",
      "Early stopping, best iteration is:\n",
      "[6]\tvalid's binary_logloss: 0.217535\tvalid's auc: 0.709616\n",
      "[LightGBM] [Warning] Auto-choosing col-wise multi-threading, the overhead of testing was 0.001022 seconds.\n",
      "You can set `force_col_wise=true` to remove the overhead.\n",
      "[1]\tvalid's binary_logloss: 0.226245\tvalid's auc: 0.67759\n",
      "Training until validation scores don't improve for 5 rounds\n",
      "[2]\tvalid's binary_logloss: 0.223478\tvalid's auc: 0.699078\n",
      "[3]\tvalid's binary_logloss: 0.223005\tvalid's auc: 0.679097\n",
      "[4]\tvalid's binary_logloss: 0.222037\tvalid's auc: 0.6834\n",
      "[5]\tvalid's binary_logloss: 0.222438\tvalid's auc: 0.685731\n",
      "[6]\tvalid's binary_logloss: 0.222264\tvalid's auc: 0.683252\n",
      "[7]\tvalid's binary_logloss: 0.220899\tvalid's auc: 0.688661\n",
      "Early stopping, best iteration is:\n",
      "[2]\tvalid's binary_logloss: 0.223478\tvalid's auc: 0.699078\n",
      "[LightGBM] [Warning] Auto-choosing col-wise multi-threading, the overhead of testing was 0.001383 seconds.\n",
      "You can set `force_col_wise=true` to remove the overhead.\n",
      "[1]\tvalid's binary_logloss: 0.227328\tvalid's auc: 0.602347\n",
      "Training until validation scores don't improve for 5 rounds\n",
      "[2]\tvalid's binary_logloss: 0.224755\tvalid's auc: 0.640153\n",
      "[3]\tvalid's binary_logloss: 0.223501\tvalid's auc: 0.648837\n",
      "[4]\tvalid's binary_logloss: 0.221793\tvalid's auc: 0.66469\n",
      "[5]\tvalid's binary_logloss: 0.221516\tvalid's auc: 0.668685\n",
      "[6]\tvalid's binary_logloss: 0.220728\tvalid's auc: 0.661396\n",
      "[7]\tvalid's binary_logloss: 0.220194\tvalid's auc: 0.665856\n",
      "[8]\tvalid's binary_logloss: 0.220073\tvalid's auc: 0.67208\n",
      "[9]\tvalid's binary_logloss: 0.220415\tvalid's auc: 0.660935\n",
      "[10]\tvalid's binary_logloss: 0.219865\tvalid's auc: 0.670716\n",
      "[11]\tvalid's binary_logloss: 0.220208\tvalid's auc: 0.668413\n",
      "[12]\tvalid's binary_logloss: 0.219893\tvalid's auc: 0.671928\n",
      "[13]\tvalid's binary_logloss: 0.219261\tvalid's auc: 0.676171\n",
      "[14]\tvalid's binary_logloss: 0.218064\tvalid's auc: 0.682893\n",
      "[15]\tvalid's binary_logloss: 0.217829\tvalid's auc: 0.683469\n",
      "[16]\tvalid's binary_logloss: 0.21687\tvalid's auc: 0.69067\n",
      "[17]\tvalid's binary_logloss: 0.21789\tvalid's auc: 0.685763\n",
      "[18]\tvalid's binary_logloss: 0.217052\tvalid's auc: 0.69383\n",
      "[19]\tvalid's binary_logloss: 0.217233\tvalid's auc: 0.693471\n",
      "[20]\tvalid's binary_logloss: 0.217408\tvalid's auc: 0.694577\n",
      "[21]\tvalid's binary_logloss: 0.21781\tvalid's auc: 0.69154\n",
      "Early stopping, best iteration is:\n",
      "[16]\tvalid's binary_logloss: 0.21687\tvalid's auc: 0.69067\n",
      "[LightGBM] [Warning] Auto-choosing col-wise multi-threading, the overhead of testing was 0.002131 seconds.\n",
      "You can set `force_col_wise=true` to remove the overhead.\n",
      "[1]\tvalid's binary_logloss: 0.229281\tvalid's auc: 0.595353\n",
      "Training until validation scores don't improve for 5 rounds\n",
      "[2]\tvalid's binary_logloss: 0.227615\tvalid's auc: 0.624995\n",
      "[3]\tvalid's binary_logloss: 0.226507\tvalid's auc: 0.640996\n",
      "[4]\tvalid's binary_logloss: 0.223955\tvalid's auc: 0.659314\n",
      "[5]\tvalid's binary_logloss: 0.223885\tvalid's auc: 0.652011\n",
      "[6]\tvalid's binary_logloss: 0.222874\tvalid's auc: 0.656057\n",
      "[7]\tvalid's binary_logloss: 0.222048\tvalid's auc: 0.6637\n",
      "[8]\tvalid's binary_logloss: 0.221899\tvalid's auc: 0.667726\n",
      "[9]\tvalid's binary_logloss: 0.221299\tvalid's auc: 0.672522\n",
      "[10]\tvalid's binary_logloss: 0.220774\tvalid's auc: 0.681995\n",
      "[11]\tvalid's binary_logloss: 0.220508\tvalid's auc: 0.682437\n",
      "[12]\tvalid's binary_logloss: 0.220768\tvalid's auc: 0.679235\n",
      "[13]\tvalid's binary_logloss: 0.221102\tvalid's auc: 0.676618\n",
      "[14]\tvalid's binary_logloss: 0.221352\tvalid's auc: 0.672025\n",
      "[15]\tvalid's binary_logloss: 0.221451\tvalid's auc: 0.670357\n",
      "[16]\tvalid's binary_logloss: 0.221538\tvalid's auc: 0.665616\n",
      "Early stopping, best iteration is:\n",
      "[11]\tvalid's binary_logloss: 0.220508\tvalid's auc: 0.682437\n",
      "[LightGBM] [Warning] Auto-choosing col-wise multi-threading, the overhead of testing was 0.001342 seconds.\n",
      "You can set `force_col_wise=true` to remove the overhead.\n",
      "[1]\tvalid's binary_logloss: 0.225215\tvalid's auc: 0.668284\n",
      "Training until validation scores don't improve for 5 rounds\n",
      "[2]\tvalid's binary_logloss: 0.222926\tvalid's auc: 0.672246\n",
      "[3]\tvalid's binary_logloss: 0.221477\tvalid's auc: 0.653891\n",
      "[4]\tvalid's binary_logloss: 0.22099\tvalid's auc: 0.663234\n",
      "[5]\tvalid's binary_logloss: 0.220997\tvalid's auc: 0.643576\n",
      "[6]\tvalid's binary_logloss: 0.220039\tvalid's auc: 0.659083\n",
      "[7]\tvalid's binary_logloss: 0.21872\tvalid's auc: 0.678323\n",
      "[8]\tvalid's binary_logloss: 0.217477\tvalid's auc: 0.680101\n",
      "[9]\tvalid's binary_logloss: 0.216481\tvalid's auc: 0.685929\n",
      "[10]\tvalid's binary_logloss: 0.216207\tvalid's auc: 0.687154\n",
      "[11]\tvalid's binary_logloss: 0.215866\tvalid's auc: 0.691725\n",
      "[12]\tvalid's binary_logloss: 0.215989\tvalid's auc: 0.690601\n",
      "[13]\tvalid's binary_logloss: 0.215454\tvalid's auc: 0.69571\n",
      "[14]\tvalid's binary_logloss: 0.215353\tvalid's auc: 0.698704\n",
      "[15]\tvalid's binary_logloss: 0.21439\tvalid's auc: 0.704035\n",
      "[16]\tvalid's binary_logloss: 0.214461\tvalid's auc: 0.703643\n",
      "[17]\tvalid's binary_logloss: 0.214021\tvalid's auc: 0.707817\n",
      "[18]\tvalid's binary_logloss: 0.214101\tvalid's auc: 0.705956\n",
      "[19]\tvalid's binary_logloss: 0.213994\tvalid's auc: 0.705357\n",
      "[20]\tvalid's binary_logloss: 0.213993\tvalid's auc: 0.703758\n",
      "[21]\tvalid's binary_logloss: 0.213366\tvalid's auc: 0.706619\n",
      "[22]\tvalid's binary_logloss: 0.213285\tvalid's auc: 0.705201\n",
      "Early stopping, best iteration is:\n",
      "[17]\tvalid's binary_logloss: 0.214021\tvalid's auc: 0.707817\n",
      "avg_val_score: 0.680008\n"
     ]
    }
   ],
   "source": [
    "#a lgb dataset\n",
    "lgb_train = lgb.Dataset(X_train, y_train)\n",
    "\n",
    "#BASE MODEL \n",
    "params = {\n",
    "    'boosting_type': 'gbdt',\n",
    "    'objective': 'binary',\n",
    "    'metric': {'binary_logloss', 'auc'},\n",
    "    'num_leaves': 35,\n",
    "    'learning_rate': 0.08,\n",
    "    'feature_fraction': 1,\n",
    "    'bagging_fraction': 0.9,\n",
    "    'bagging_freq': 5,\n",
    "    'verbose': 0,\n",
    "}\n",
    "# 使用交叉验证进行模型评估\n",
    "folds = 5\n",
    "kf = StratifiedKFold(n_splits=folds, shuffle=True, random_state=22)\n",
    "\n",
    "val_list = []\n",
    "\n",
    "for train_index, val_index  in kf.split(X_train, y_train):\n",
    "  train_X = X_train.iloc[train_index]\n",
    "  val_X = X_train.iloc[val_index]\n",
    "  train_y = y_train.iloc[train_index]\n",
    "  val_y = y_train.iloc[val_index]\n",
    "\n",
    "  lgb_train = lgb.Dataset(train_X, train_y)\n",
    "  lgb_eval = lgb.Dataset(val_X, val_y, reference=lgb_train)\n",
    "\n",
    "  res = {}\n",
    "\n",
    "  gbm = lgb.train(params,\n",
    "                  lgb_train,\n",
    "                  num_boost_round=30,\n",
    "                  valid_sets=lgb_eval,\n",
    "                  valid_names=['valid'],\n",
    "                  evals_result = res,\n",
    "                  early_stopping_rounds=5)\n",
    "  y_pred = gbm.predict(val_X, num_iteration=gbm.best_iteration)\n",
    "  val_scores.append(res['valid']['auc'][-1])\n",
    "\n",
    "print(\"avg_val_score: %4f\" % (np.mean(val_scores)))\n"
   ]
  },
  {
   "cell_type": "code",
   "execution_count": 234,
   "metadata": {},
   "outputs": [
    {
     "name": "stdout",
     "output_type": "stream",
     "text": [
      "[LightGBM] [Warning] Auto-choosing col-wise multi-threading, the overhead of testing was 0.002076 seconds.\n",
      "You can set `force_col_wise=true` to remove the overhead.\n"
     ]
    },
    {
     "data": {
      "image/png": "[encoded data removed]",
      "text/plain": [
       "<Figure size 640x480 with 1 Axes>"
      ]
     },
     "metadata": {},
     "output_type": "display_data"
    }
   ],
   "source": [
    "gbm = lgb.train(params,\n",
    "                lgb_train,\n",
    "                num_boost_round=30)\n",
    "# 对测试集进行预测\n",
    "y_pred = gbm.predict(X_test, num_iteration=gbm.best_iteration)\n",
    "\n",
    "from sklearn import metrics\n",
    "fpr, tpr, _ = metrics.roc_curve(y_test,  y_pred)\n",
    "auc = metrics.roc_auc_score(y_test, y_pred)\n",
    "plt.plot(fpr,tpr,label=\"AUC=\"+str(auc))\n",
    "plt.plot([0, 1], [0, 1], color='navy', lw=1, linestyle='--')\n",
    "plt.ylabel('True Positive Rate')\n",
    "plt.xlabel('False Positive Rate')\n",
    "plt.legend(loc=4)\n",
    "plt.title(\"Gradient Boost Base Model ROC\")\n",
    "plt.show()"
   ]
  }
 ],
 "metadata": {
  "kernelspec": {
   "display_name": "base",
   "language": "python",
   "name": "python3"
  },
  "language_info": {
   "codemirror_mode": {
    "name": "ipython",
    "version": 3
   },
   "file_extension": ".py",
   "mimetype": "text/x-python",
   "name": "python",
   "nbconvert_exporter": "python",
   "pygments_lexer": "ipython3",
   "version": "3.9.13"
  },
  "orig_nbformat": 4
 },
 "nbformat": 4,
 "nbformat_minor": 2
}
