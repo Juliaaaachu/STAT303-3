{
 "cells": [
  {
   "cell_type": "code",
   "execution_count": 1,
   "metadata": {},
   "outputs": [],
   "source": [
    "import pandas as pd"
   ]
  },
  {
   "cell_type": "code",
   "execution_count": 2,
   "metadata": {},
   "outputs": [],
   "source": [
    "df = pd.read_csv(\"data/application_train.csv\")"
   ]
  },
  {
   "cell_type": "code",
   "execution_count": 5,
   "metadata": {},
   "outputs": [
    {
     "name": "stdout",
     "output_type": "stream",
     "text": [
      "Number of continuous predictors:  106\n",
      "Number of categorical predictors:  16\n",
      "Total number of observations:  307511\n",
      "Proportion of 0s and 1s in 'target' column:\n",
      "0    0.919271\n",
      "1    0.080729\n",
      "Name: TARGET, dtype: float64\n"
     ]
    }
   ],
   "source": [
    "# Count the number of continuous and categorical predictors\n",
    "continuous_predictors = len(df.select_dtypes(include='number').columns)\n",
    "categorical_predictors = len(df.select_dtypes(include='object').columns)\n",
    "\n",
    "# Count the total number of observations\n",
    "total_observations = len(df)\n",
    "\n",
    "# Calculate the proportion of 0s and 1s in the 'target' column\n",
    "target_proportions = df['TARGET'].value_counts(normalize=True)\n",
    "\n",
    "# Print the results\n",
    "print(\"Number of continuous predictors: \", continuous_predictors)\n",
    "print(\"Number of categorical predictors: \", categorical_predictors)\n",
    "print(\"Total number of observations: \", total_observations)\n",
    "print(\"Proportion of 0s and 1s in 'target' column:\")\n",
    "print(target_proportions)"
   ]
  },
  {
   "cell_type": "code",
   "execution_count": 4,
   "metadata": {},
   "outputs": [
    {
     "name": "stdout",
     "output_type": "stream",
     "text": [
      "Missing Values by Predictor:\n",
      "SK_ID_CURR                        0\n",
      "TARGET                            0\n",
      "NAME_CONTRACT_TYPE                0\n",
      "CODE_GENDER                       0\n",
      "FLAG_OWN_CAR                      0\n",
      "                              ...  \n",
      "AMT_REQ_CREDIT_BUREAU_DAY     41519\n",
      "AMT_REQ_CREDIT_BUREAU_WEEK    41519\n",
      "AMT_REQ_CREDIT_BUREAU_MON     41519\n",
      "AMT_REQ_CREDIT_BUREAU_QRT     41519\n",
      "AMT_REQ_CREDIT_BUREAU_YEAR    41519\n",
      "Length: 122, dtype: int64\n",
      "Percentage of Missing Values by Predictor:\n",
      "SK_ID_CURR                     0.000000\n",
      "TARGET                         0.000000\n",
      "NAME_CONTRACT_TYPE             0.000000\n",
      "CODE_GENDER                    0.000000\n",
      "FLAG_OWN_CAR                   0.000000\n",
      "                                ...    \n",
      "AMT_REQ_CREDIT_BUREAU_DAY     13.501631\n",
      "AMT_REQ_CREDIT_BUREAU_WEEK    13.501631\n",
      "AMT_REQ_CREDIT_BUREAU_MON     13.501631\n",
      "AMT_REQ_CREDIT_BUREAU_QRT     13.501631\n",
      "AMT_REQ_CREDIT_BUREAU_YEAR    13.501631\n",
      "Length: 122, dtype: float64\n"
     ]
    }
   ],
   "source": [
    "# Check for missing values in each predictor\n",
    "missing_values = df.isnull().sum()\n",
    "print(\"Missing Values by Predictor:\")\n",
    "print(missing_values)\n",
    "\n",
    "# Alternatively, you can also check the percentage of missing values\n",
    "missing_values_percentage = (df.isnull().sum() / len(df)) * 100\n",
    "print(\"Percentage of Missing Values by Predictor:\")\n",
    "print(missing_values_percentage)"
   ]
  },
  {
   "cell_type": "code",
   "execution_count": null,
   "metadata": {},
   "outputs": [],
   "source": [
    "#"
   ]
  }
 ],
 "metadata": {
  "kernelspec": {
   "display_name": "base",
   "language": "python",
   "name": "python3"
  },
  "language_info": {
   "codemirror_mode": {
    "name": "ipython",
    "version": 3
   },
   "file_extension": ".py",
   "mimetype": "text/x-python",
   "name": "python",
   "nbconvert_exporter": "python",
   "pygments_lexer": "ipython3",
   "version": "3.9.13"
  },
  "orig_nbformat": 4
 },
 "nbformat": 4,
 "nbformat_minor": 2
}
